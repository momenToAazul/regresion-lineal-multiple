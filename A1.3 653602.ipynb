{
 "cells": [
  {
   "cell_type": "markdown",
   "id": "181599ea",
   "metadata": {},
   "source": [
    "**Regresión Lineal Múltiple**\n",
    "\n",
    "**Nombre:** Carlos Hernández Márquez\n",
    "\n",
    "**Matrícula:** 653602\n",
    "\n",
    "**Firma de honor:**\n",
    "\"Doy mi palabra que he realizado esta actividad con integridad académica\""
   ]
  },
  {
   "cell_type": "markdown",
   "id": "d45701b5",
   "metadata": {},
   "source": [
    "\n",
    "En esta sección se aborda la construcción de un modelo de regresión lineal múltiple, técnica estadística que permite cuantificar y evaluar la relación entre una variable dependiente y múltiples predictores de manera simultánea. A diferencia de la regresión simple, este enfoque resulta más apropiado para problemas reales, ya que integra la influencia conjunta de diferentes factores y ofrece una visión más completa del fenómeno estudiado.\n",
    "\n",
    "El análisis se desarrolla con una base de datos de la NASA, originalmente publicada en el NASA Reference Publication 1218 y disponible en el UCI Machine Learning Repository. Este conjunto comprende 1,052 observaciones con seis mediciones clave del comportamiento aerodinámico: frecuencia, ángulo de ataque, longitud de cuerda, velocidad de flujo libre, espesor del desplazamiento y presión sonora. La variable objetivo a modelar es la presión sonora, considerada un indicador del rendimiento aerodinámico."
   ]
  },
  {
   "cell_type": "markdown",
   "id": "8c44ed31",
   "metadata": {},
   "source": [
    "# **Exploración inicial de los datos**\n",
    "\n",
    "En primer lugar, se procede a importar la base de datos en el entorno de trabajo con el fin de realizar una exploración inicial de su estructura."
   ]
  },
  {
   "cell_type": "code",
   "execution_count": 135,
   "id": "3418f33a",
   "metadata": {},
   "outputs": [
    {
     "name": "stdout",
     "output_type": "stream",
     "text": [
      "(1503, 6)\n",
      "Index(['frecuencia', 'angulo', 'longitud', 'velocidad', 'espesor', 'presion'], dtype='object')\n"
     ]
    }
   ],
   "source": [
    "import pandas as pd\n",
    "import numpy as np\n",
    "\n",
    "data = pd.read_csv(\"A1.3 NASA.csv\")\n",
    "print(data.shape)\n",
    "print(data.columns)"
   ]
  },
  {
   "cell_type": "markdown",
   "id": "2535f210",
   "metadata": {},
   "source": [
    "El conjunto de datos contiene **1,503 observaciones** distribuidas en **6 variables**, lo que asegura un volumen suficiente para entrenar y validar un modelo de regresión lineal múltiple con robustez estadística. Los nombres de las columnas confirman que cada registro describe condiciones aerodinámicas mediante variables predictoras (`frecuencia`, `angulo`, `longitud`, `velocidad`, `espesor`) y una variable de respuesta (`presion`).  \n"
   ]
  },
  {
   "cell_type": "code",
   "execution_count": 137,
   "id": "63bf0306",
   "metadata": {},
   "outputs": [
    {
     "data": {
      "text/html": [
       "<div>\n",
       "<style scoped>\n",
       "    .dataframe tbody tr th:only-of-type {\n",
       "        vertical-align: middle;\n",
       "    }\n",
       "\n",
       "    .dataframe tbody tr th {\n",
       "        vertical-align: top;\n",
       "    }\n",
       "\n",
       "    .dataframe thead th {\n",
       "        text-align: right;\n",
       "    }\n",
       "</style>\n",
       "<table border=\"1\" class=\"dataframe\">\n",
       "  <thead>\n",
       "    <tr style=\"text-align: right;\">\n",
       "      <th></th>\n",
       "      <th>frecuencia</th>\n",
       "      <th>angulo</th>\n",
       "      <th>longitud</th>\n",
       "      <th>velocidad</th>\n",
       "      <th>espesor</th>\n",
       "      <th>presion</th>\n",
       "    </tr>\n",
       "  </thead>\n",
       "  <tbody>\n",
       "    <tr>\n",
       "      <th>0</th>\n",
       "      <td>800</td>\n",
       "      <td>0.0</td>\n",
       "      <td>0.3048</td>\n",
       "      <td>71.3</td>\n",
       "      <td>0.002663</td>\n",
       "      <td>126.201</td>\n",
       "    </tr>\n",
       "    <tr>\n",
       "      <th>1</th>\n",
       "      <td>1000</td>\n",
       "      <td>0.0</td>\n",
       "      <td>0.3048</td>\n",
       "      <td>71.3</td>\n",
       "      <td>0.002663</td>\n",
       "      <td>125.201</td>\n",
       "    </tr>\n",
       "    <tr>\n",
       "      <th>2</th>\n",
       "      <td>1250</td>\n",
       "      <td>0.0</td>\n",
       "      <td>0.3048</td>\n",
       "      <td>71.3</td>\n",
       "      <td>0.002663</td>\n",
       "      <td>125.951</td>\n",
       "    </tr>\n",
       "    <tr>\n",
       "      <th>3</th>\n",
       "      <td>1600</td>\n",
       "      <td>0.0</td>\n",
       "      <td>0.3048</td>\n",
       "      <td>71.3</td>\n",
       "      <td>0.002663</td>\n",
       "      <td>127.591</td>\n",
       "    </tr>\n",
       "    <tr>\n",
       "      <th>4</th>\n",
       "      <td>2000</td>\n",
       "      <td>0.0</td>\n",
       "      <td>0.3048</td>\n",
       "      <td>71.3</td>\n",
       "      <td>0.002663</td>\n",
       "      <td>127.461</td>\n",
       "    </tr>\n",
       "    <tr>\n",
       "      <th>5</th>\n",
       "      <td>2500</td>\n",
       "      <td>0.0</td>\n",
       "      <td>0.3048</td>\n",
       "      <td>71.3</td>\n",
       "      <td>0.002663</td>\n",
       "      <td>125.571</td>\n",
       "    </tr>\n",
       "  </tbody>\n",
       "</table>\n",
       "</div>"
      ],
      "text/plain": [
       "   frecuencia  angulo  longitud  velocidad   espesor  presion\n",
       "0         800     0.0    0.3048       71.3  0.002663  126.201\n",
       "1        1000     0.0    0.3048       71.3  0.002663  125.201\n",
       "2        1250     0.0    0.3048       71.3  0.002663  125.951\n",
       "3        1600     0.0    0.3048       71.3  0.002663  127.591\n",
       "4        2000     0.0    0.3048       71.3  0.002663  127.461\n",
       "5        2500     0.0    0.3048       71.3  0.002663  125.571"
      ]
     },
     "execution_count": 137,
     "metadata": {},
     "output_type": "execute_result"
    }
   ],
   "source": [
    "data.head(6)"
   ]
  },
  {
   "cell_type": "markdown",
   "id": "27a17da1",
   "metadata": {},
   "source": [
    "La inspección de las primeras filas revela que `longitud`, `velocidad` y `espesor` se mantienen prácticamente constantes, lo que sugiere una baja variabilidad en estos predictores. En contraste, `frecuencia` muestra una progresión sistemática, mientras que `angulo` cambia de forma más discreta a lo largo del conjunto de datos. La variable `presion` exhibe oscilaciones en un rango cercano a **117–128 dB**, reflejando los efectos combinados de las condiciones experimentales. A partir de ello, se confirma que `presion` constituye la **variable dependiente**, mientras que las demás se establecen como **variables independientes** dentro del modelo de regresión lineal múltiple.  "
   ]
  },
  {
   "cell_type": "markdown",
   "id": "5a65c768",
   "metadata": {},
   "source": [
    "# **División en conjuntos de entrenamiento y validación**\n",
    "\n",
    "En este paso se realiza la partición del conjunto de datos en dos subconjuntos: uno de **entrenamiento (70%)** y otro de **validación (30%)**. Esta separación es esencial para construir un modelo capaz de generalizar, evitando que las conclusiones se limiten únicamente a los datos originales.  \n"
   ]
  },
  {
   "cell_type": "code",
   "execution_count": 138,
   "id": "170c6f82",
   "metadata": {},
   "outputs": [
    {
     "name": "stdout",
     "output_type": "stream",
     "text": [
      "Train: (1052, 6)\n",
      "Test: (451, 6)\n"
     ]
    }
   ],
   "source": [
    "train = data.sample(frac = 0.7)\n",
    "test = data.drop(train.index)\n",
    "print(\"Train:\",train.shape)\n",
    "print(\"Test:\",test.shape)"
   ]
  },
  {
   "cell_type": "markdown",
   "id": "224f7c27",
   "metadata": {},
   "source": [
    "Los resultados muestran que el conjunto de entrenamiento contiene **1,052 observaciones** y el de validación **451 observaciones**, lo que confirma que la proporción establecida es coherente con la especificación 70/30 sobre las 1,503 observaciones iniciales.  "
   ]
  },
  {
   "cell_type": "code",
   "execution_count": 139,
   "id": "4b4e465e",
   "metadata": {},
   "outputs": [
    {
     "data": {
      "text/html": [
       "<div>\n",
       "<style scoped>\n",
       "    .dataframe tbody tr th:only-of-type {\n",
       "        vertical-align: middle;\n",
       "    }\n",
       "\n",
       "    .dataframe tbody tr th {\n",
       "        vertical-align: top;\n",
       "    }\n",
       "\n",
       "    .dataframe thead th {\n",
       "        text-align: right;\n",
       "    }\n",
       "</style>\n",
       "<table border=\"1\" class=\"dataframe\">\n",
       "  <thead>\n",
       "    <tr style=\"text-align: right;\">\n",
       "      <th></th>\n",
       "      <th>frecuencia</th>\n",
       "      <th>angulo</th>\n",
       "      <th>longitud</th>\n",
       "      <th>velocidad</th>\n",
       "      <th>espesor</th>\n",
       "      <th>presion</th>\n",
       "    </tr>\n",
       "  </thead>\n",
       "  <tbody>\n",
       "    <tr>\n",
       "      <th>960</th>\n",
       "      <td>3150</td>\n",
       "      <td>19.7</td>\n",
       "      <td>0.0508</td>\n",
       "      <td>39.6</td>\n",
       "      <td>0.036484</td>\n",
       "      <td>113.004</td>\n",
       "    </tr>\n",
       "    <tr>\n",
       "      <th>1361</th>\n",
       "      <td>500</td>\n",
       "      <td>6.7</td>\n",
       "      <td>0.1016</td>\n",
       "      <td>39.6</td>\n",
       "      <td>0.005781</td>\n",
       "      <td>130.955</td>\n",
       "    </tr>\n",
       "    <tr>\n",
       "      <th>552</th>\n",
       "      <td>5000</td>\n",
       "      <td>5.4</td>\n",
       "      <td>0.1524</td>\n",
       "      <td>71.3</td>\n",
       "      <td>0.004012</td>\n",
       "      <td>120.061</td>\n",
       "    </tr>\n",
       "    <tr>\n",
       "      <th>1447</th>\n",
       "      <td>800</td>\n",
       "      <td>12.3</td>\n",
       "      <td>0.1016</td>\n",
       "      <td>39.6</td>\n",
       "      <td>0.040827</td>\n",
       "      <td>122.315</td>\n",
       "    </tr>\n",
       "    <tr>\n",
       "      <th>754</th>\n",
       "      <td>1600</td>\n",
       "      <td>0.0</td>\n",
       "      <td>0.0508</td>\n",
       "      <td>39.6</td>\n",
       "      <td>0.000792</td>\n",
       "      <td>130.908</td>\n",
       "    </tr>\n",
       "  </tbody>\n",
       "</table>\n",
       "</div>"
      ],
      "text/plain": [
       "      frecuencia  angulo  longitud  velocidad   espesor  presion\n",
       "960         3150    19.7    0.0508       39.6  0.036484  113.004\n",
       "1361         500     6.7    0.1016       39.6  0.005781  130.955\n",
       "552         5000     5.4    0.1524       71.3  0.004012  120.061\n",
       "1447         800    12.3    0.1016       39.6  0.040827  122.315\n",
       "754         1600     0.0    0.0508       39.6  0.000792  130.908"
      ]
     },
     "execution_count": 139,
     "metadata": {},
     "output_type": "execute_result"
    }
   ],
   "source": [
    "train.head()"
   ]
  },
  {
   "cell_type": "markdown",
   "id": "d4378303",
   "metadata": {},
   "source": [
    "Al inspeccionar algunas de las primeras filas del subconjunto de entrenamiento, se observa que las filas corresponden a índices no consecutivos, lo cual confirma que la selección fue **aleatoria**. Este comportamiento garantiza que cada corrida del código muestre registros distintos, lo cual es deseable desde el punto de vista estadístico porque evita **sesgos de selección** y proporciona una mejor representación de la variabilidad en los datos.  \n",
    "\n",
    "Este procedimiento asegura que el modelo será entrenado con una muestra representativa y validado con datos nunca vistos, lo que permite evaluar de forma objetiva su capacidad predictiva en el siguiente punto.  \n"
   ]
  },
  {
   "cell_type": "markdown",
   "id": "ea93fbe4",
   "metadata": {},
   "source": [
    "# **Ajuste del modelo de regresión lineal múltiple**\n",
    "\n",
    "En este paso se entrena el modelo de **regresión lineal múltiple**, utilizando como variables predictoras `frecuencia`, `angulo`, `longitud`, `velocidad` y `espesor`, mientras que la variable objetivo a estimar es `presion`. El propósito es obtener una representación estadística que permita identificar cómo cada predictor contribuye en conjunto a explicar la variabilidad en los niveles de presión sonora.  "
   ]
  },
  {
   "cell_type": "code",
   "execution_count": 127,
   "id": "b1089b8d",
   "metadata": {},
   "outputs": [
    {
     "data": {
      "text/html": [
       "<table class=\"simpletable\">\n",
       "<caption>OLS Regression Results</caption>\n",
       "<tr>\n",
       "  <th>Dep. Variable:</th>         <td>presion</td>     <th>  R-squared:         </th> <td>   0.525</td> \n",
       "</tr>\n",
       "<tr>\n",
       "  <th>Model:</th>                   <td>OLS</td>       <th>  Adj. R-squared:    </th> <td>   0.523</td> \n",
       "</tr>\n",
       "<tr>\n",
       "  <th>Method:</th>             <td>Least Squares</td>  <th>  F-statistic:       </th> <td>   231.6</td> \n",
       "</tr>\n",
       "<tr>\n",
       "  <th>Date:</th>             <td>Wed, 20 Aug 2025</td> <th>  Prob (F-statistic):</th> <td>1.80e-166</td>\n",
       "</tr>\n",
       "<tr>\n",
       "  <th>Time:</th>                 <td>23:23:57</td>     <th>  Log-Likelihood:    </th> <td> -3138.6</td> \n",
       "</tr>\n",
       "<tr>\n",
       "  <th>No. Observations:</th>      <td>  1052</td>      <th>  AIC:               </th> <td>   6289.</td> \n",
       "</tr>\n",
       "<tr>\n",
       "  <th>Df Residuals:</th>          <td>  1046</td>      <th>  BIC:               </th> <td>   6319.</td> \n",
       "</tr>\n",
       "<tr>\n",
       "  <th>Df Model:</th>              <td>     5</td>      <th>                     </th>     <td> </td>    \n",
       "</tr>\n",
       "<tr>\n",
       "  <th>Covariance Type:</th>      <td>nonrobust</td>    <th>                     </th>     <td> </td>    \n",
       "</tr>\n",
       "</table>\n",
       "<table class=\"simpletable\">\n",
       "<tr>\n",
       "       <td></td>         <th>coef</th>     <th>std err</th>      <th>t</th>      <th>P>|t|</th>  <th>[0.025</th>    <th>0.975]</th>  \n",
       "</tr>\n",
       "<tr>\n",
       "  <th>const</th>      <td>  132.4317</td> <td>    0.642</td> <td>  206.301</td> <td> 0.000</td> <td>  131.172</td> <td>  133.691</td>\n",
       "</tr>\n",
       "<tr>\n",
       "  <th>frecuencia</th> <td>   -0.0013</td> <td> 4.92e-05</td> <td>  -26.124</td> <td> 0.000</td> <td>   -0.001</td> <td>   -0.001</td>\n",
       "</tr>\n",
       "<tr>\n",
       "  <th>angulo</th>     <td>   -0.4073</td> <td>    0.047</td> <td>   -8.749</td> <td> 0.000</td> <td>   -0.499</td> <td>   -0.316</td>\n",
       "</tr>\n",
       "<tr>\n",
       "  <th>longitud</th>   <td>  -35.2249</td> <td>    1.919</td> <td>  -18.358</td> <td> 0.000</td> <td>  -38.990</td> <td>  -31.460</td>\n",
       "</tr>\n",
       "<tr>\n",
       "  <th>velocidad</th>  <td>    0.1044</td> <td>    0.010</td> <td>   10.779</td> <td> 0.000</td> <td>    0.085</td> <td>    0.123</td>\n",
       "</tr>\n",
       "<tr>\n",
       "  <th>espesor</th>    <td> -155.5221</td> <td>   18.292</td> <td>   -8.502</td> <td> 0.000</td> <td> -191.416</td> <td> -119.628</td>\n",
       "</tr>\n",
       "</table>\n",
       "<table class=\"simpletable\">\n",
       "<tr>\n",
       "  <th>Omnibus:</th>       <td>12.009</td> <th>  Durbin-Watson:     </th> <td>   2.049</td>\n",
       "</tr>\n",
       "<tr>\n",
       "  <th>Prob(Omnibus):</th> <td> 0.002</td> <th>  Jarque-Bera (JB):  </th> <td>  18.829</td>\n",
       "</tr>\n",
       "<tr>\n",
       "  <th>Skew:</th>          <td> 0.005</td> <th>  Prob(JB):          </th> <td>8.15e-05</td>\n",
       "</tr>\n",
       "<tr>\n",
       "  <th>Kurtosis:</th>      <td> 3.655</td> <th>  Cond. No.          </th> <td>5.39e+05</td>\n",
       "</tr>\n",
       "</table><br/><br/>Notes:<br/>[1] Standard Errors assume that the covariance matrix of the errors is correctly specified.<br/>[2] The condition number is large, 5.39e+05. This might indicate that there are<br/>strong multicollinearity or other numerical problems."
      ],
      "text/latex": [
       "\\begin{center}\n",
       "\\begin{tabular}{lclc}\n",
       "\\toprule\n",
       "\\textbf{Dep. Variable:}    &     presion      & \\textbf{  R-squared:         } &     0.525   \\\\\n",
       "\\textbf{Model:}            &       OLS        & \\textbf{  Adj. R-squared:    } &     0.523   \\\\\n",
       "\\textbf{Method:}           &  Least Squares   & \\textbf{  F-statistic:       } &     231.6   \\\\\n",
       "\\textbf{Date:}             & Wed, 20 Aug 2025 & \\textbf{  Prob (F-statistic):} & 1.80e-166   \\\\\n",
       "\\textbf{Time:}             &     23:23:57     & \\textbf{  Log-Likelihood:    } &   -3138.6   \\\\\n",
       "\\textbf{No. Observations:} &        1052      & \\textbf{  AIC:               } &     6289.   \\\\\n",
       "\\textbf{Df Residuals:}     &        1046      & \\textbf{  BIC:               } &     6319.   \\\\\n",
       "\\textbf{Df Model:}         &           5      & \\textbf{                     } &             \\\\\n",
       "\\textbf{Covariance Type:}  &    nonrobust     & \\textbf{                     } &             \\\\\n",
       "\\bottomrule\n",
       "\\end{tabular}\n",
       "\\begin{tabular}{lcccccc}\n",
       "                    & \\textbf{coef} & \\textbf{std err} & \\textbf{t} & \\textbf{P$> |$t$|$} & \\textbf{[0.025} & \\textbf{0.975]}  \\\\\n",
       "\\midrule\n",
       "\\textbf{const}      &     132.4317  &        0.642     &   206.301  &         0.000        &      131.172    &      133.691     \\\\\n",
       "\\textbf{frecuencia} &      -0.0013  &     4.92e-05     &   -26.124  &         0.000        &       -0.001    &       -0.001     \\\\\n",
       "\\textbf{angulo}     &      -0.4073  &        0.047     &    -8.749  &         0.000        &       -0.499    &       -0.316     \\\\\n",
       "\\textbf{longitud}   &     -35.2249  &        1.919     &   -18.358  &         0.000        &      -38.990    &      -31.460     \\\\\n",
       "\\textbf{velocidad}  &       0.1044  &        0.010     &    10.779  &         0.000        &        0.085    &        0.123     \\\\\n",
       "\\textbf{espesor}    &    -155.5221  &       18.292     &    -8.502  &         0.000        &     -191.416    &     -119.628     \\\\\n",
       "\\bottomrule\n",
       "\\end{tabular}\n",
       "\\begin{tabular}{lclc}\n",
       "\\textbf{Omnibus:}       & 12.009 & \\textbf{  Durbin-Watson:     } &    2.049  \\\\\n",
       "\\textbf{Prob(Omnibus):} &  0.002 & \\textbf{  Jarque-Bera (JB):  } &   18.829  \\\\\n",
       "\\textbf{Skew:}          &  0.005 & \\textbf{  Prob(JB):          } & 8.15e-05  \\\\\n",
       "\\textbf{Kurtosis:}      &  3.655 & \\textbf{  Cond. No.          } & 5.39e+05  \\\\\n",
       "\\bottomrule\n",
       "\\end{tabular}\n",
       "%\\caption{OLS Regression Results}\n",
       "\\end{center}\n",
       "\n",
       "Notes: \\newline\n",
       " [1] Standard Errors assume that the covariance matrix of the errors is correctly specified. \\newline\n",
       " [2] The condition number is large, 5.39e+05. This might indicate that there are \\newline\n",
       " strong multicollinearity or other numerical problems."
      ],
      "text/plain": [
       "<class 'statsmodels.iolib.summary.Summary'>\n",
       "\"\"\"\n",
       "                            OLS Regression Results                            \n",
       "==============================================================================\n",
       "Dep. Variable:                presion   R-squared:                       0.525\n",
       "Model:                            OLS   Adj. R-squared:                  0.523\n",
       "Method:                 Least Squares   F-statistic:                     231.6\n",
       "Date:                Wed, 20 Aug 2025   Prob (F-statistic):          1.80e-166\n",
       "Time:                        23:23:57   Log-Likelihood:                -3138.6\n",
       "No. Observations:                1052   AIC:                             6289.\n",
       "Df Residuals:                    1046   BIC:                             6319.\n",
       "Df Model:                           5                                         \n",
       "Covariance Type:            nonrobust                                         \n",
       "==============================================================================\n",
       "                 coef    std err          t      P>|t|      [0.025      0.975]\n",
       "------------------------------------------------------------------------------\n",
       "const        132.4317      0.642    206.301      0.000     131.172     133.691\n",
       "frecuencia    -0.0013   4.92e-05    -26.124      0.000      -0.001      -0.001\n",
       "angulo        -0.4073      0.047     -8.749      0.000      -0.499      -0.316\n",
       "longitud     -35.2249      1.919    -18.358      0.000     -38.990     -31.460\n",
       "velocidad      0.1044      0.010     10.779      0.000       0.085       0.123\n",
       "espesor     -155.5221     18.292     -8.502      0.000    -191.416    -119.628\n",
       "==============================================================================\n",
       "Omnibus:                       12.009   Durbin-Watson:                   2.049\n",
       "Prob(Omnibus):                  0.002   Jarque-Bera (JB):               18.829\n",
       "Skew:                           0.005   Prob(JB):                     8.15e-05\n",
       "Kurtosis:                       3.655   Cond. No.                     5.39e+05\n",
       "==============================================================================\n",
       "\n",
       "Notes:\n",
       "[1] Standard Errors assume that the covariance matrix of the errors is correctly specified.\n",
       "[2] The condition number is large, 5.39e+05. This might indicate that there are\n",
       "strong multicollinearity or other numerical problems.\n",
       "\"\"\""
      ]
     },
     "execution_count": 127,
     "metadata": {},
     "output_type": "execute_result"
    }
   ],
   "source": [
    "import statsmodels.api as sm\n",
    "X = train.drop('presion', axis=1)\n",
    "Y = train.presion\n",
    "model = sm.OLS(Y,sm.add_constant(X))\n",
    "results= model.fit()\n",
    "results.summary()"
   ]
  },
  {
   "cell_type": "markdown",
   "id": "faed612c",
   "metadata": {},
   "source": [
    "El resumen estadístico del modelo muestra un valor de **F-statistic = 231.6** con una probabilidad asociada prácticamente nula (`Prob(F-statistic) ≈ 1.8e-166`). Este resultado indica que, en conjunto, los predictores considerados aportan información estadísticamente significativa para explicar la variable dependiente. En otras palabras, el modelo no es trivial: existe suficiente evidencia estadística para rechazar la hipótesis nula de que todos los coeficientes sean iguales a cero de manera simultánea.  \n",
    "\n",
    "Un aspecto relevante es que, en la tabla del resumen, los **p-values aparecen como 0.000**, lo cual es consecuencia de que los valores reales son extremadamente pequeños y se redondean en la salida estándar de `statsmodels`. Para solventar este problema se utilizaron los atributos de `pvalues` del objeto ajustado, lo que permitió imprimir sus valores exactos en notación científica. Estos resultados serán clave en el siguiente apartado, donde se evaluará la significancia individual de cada variable en la predicción de `presion`.  "
   ]
  },
  {
   "cell_type": "code",
   "execution_count": 128,
   "id": "34ea1021",
   "metadata": {},
   "outputs": [
    {
     "name": "stdout",
     "output_type": "stream",
     "text": [
      "Frecuencia p-value = 3.259517985814625e-116\n",
      "Angulo p-value = 8.486388801148247e-18\n",
      "Longitud p-value = 1.817256134122106e-65\n",
      "Velocidad p-value = 9.200546420085655e-26\n",
      "Espesor p-value = 6.354409601847869e-17\n"
     ]
    }
   ],
   "source": [
    "print(\"Frecuencia p-value =\", results.pvalues.frecuencia)\n",
    "print(\"Angulo p-value =\", results.pvalues.angulo)\n",
    "print(\"Longitud p-value =\", results.pvalues.longitud)\n",
    "print(\"Velocidad p-value =\", results.pvalues.velocidad)\n",
    "print(\"Espesor p-value =\", results.pvalues.espesor)\n"
   ]
  },
  {
   "cell_type": "markdown",
   "id": "45c5096d",
   "metadata": {},
   "source": [
    "# **Evaluación de significancia estadística de las variables** \n",
    "\n",
    "El modelo ajustado alcanza un coeficiente de determinación de **$R^2 = 0.525$**, lo que indica que cerca del **52.5% de la variabilidad observada en la presión** se explica por las cinco variables predictoras consideradas. Si bien no se trata de una explicación total del fenómeno, este valor refleja que el modelo capta relaciones relevantes y no triviales dentro del sistema aerodinámico.  \n",
    "\n",
    "En cuanto a la significancia estadística, los **p-values de todas las variables resultan extremadamente pequeños** (entre $10^{-17}$ y $10^{-116}$), muy por debajo del umbral común de $\\alpha = 0.05$. Esto significa que existe evidencia suficiente para concluir que cada predictor aporta información significativa en la predicción de `presion`.  \n",
    "\n",
    "Al interpretar los coeficientes, se observa que **frecuencia** y **longitud** muestran efectos negativos pronunciados, lo que sugiere que incrementos en estas variables se asocian con reducciones en los niveles de presión sonora. De manera similar, **ángulo** y **espesor** presentan también una relación negativa, aunque con magnitudes distintas. En contraste, **velocidad** exhibe un coeficiente positivo, lo que indica que a mayor velocidad del flujo libre tiende a aumentar la presión.  \n"
   ]
  },
  {
   "cell_type": "markdown",
   "id": "58e57a9e",
   "metadata": {},
   "source": [
    "# **Métricas de desempeño en entrenamiento y validación**"
   ]
  },
  {
   "cell_type": "markdown",
   "id": "1d0b531a",
   "metadata": {},
   "source": [
    "Una vez ajustado el modelo y analizada la significancia de los predictores, es necesario evaluar su capacidad de ajuste tanto en los datos de entrenamiento como en los de validación. Para ello, se calcularon dos métricas clave: el **Error Estándar Residual (RSE)**, que mide la magnitud promedio de los errores de predicción, y el **coeficiente de determinación $R^2$**, que refleja la proporción de variabilidad en la respuesta explicada por el modelo.  "
   ]
  },
  {
   "cell_type": "code",
   "execution_count": 130,
   "id": "dbfd75af",
   "metadata": {},
   "outputs": [
    {
     "name": "stdout",
     "output_type": "stream",
     "text": [
      "Train (manual):\n",
      "RSE = 4.793925097164676\n",
      "R^2 = 0.525405099811137\n"
     ]
    }
   ],
   "source": [
    "XTrain = train.drop('presion', axis = 1)\n",
    "yhatTrain = results.predict(sm.add_constant(X))\n",
    "YTrain = train.presion\n",
    "\n",
    "\n",
    "RSSTrain = sum((YTrain - yhatTrain)**2)\n",
    "TSSTrain = sum((YTrain - np.mean(YTrain))**2)\n",
    "\n",
    "n = X.shape[0]\n",
    "nTrain = XTrain.shape[0]\n",
    "m = X.shape[1]\n",
    "mTrain = XTrain.shape[1]\n",
    "\n",
    "RSE_train_manual = np.sqrt(RSSTrain / (n - m - 1))\n",
    "R2_train_manual = 1 - RSSTrain / TSSTrain\n",
    "\n",
    "print(\"Train (manual):\")\n",
    "print(\"RSE =\", RSE_train_manual)\n",
    "print(\"R^2 =\", R2_train_manual)\n"
   ]
  },
  {
   "cell_type": "markdown",
   "id": "da9a3bb7",
   "metadata": {},
   "source": [
    "En los datos de **entrenamiento**, los resultados muestran un **RSE ≈ 4.79** y un **$R^2 ≈ 0.525$**. Esto significa que, en promedio, los errores de predicción oscilan alrededor de 4.8 unidades de presión, y que aproximadamente el 52.5% de la variabilidad de la presión está siendo explicada por las variables predictoras. Si bien no es un ajuste perfecto, estos valores confirman que el modelo logra capturar parte importante de las relaciones entre las variables.  "
   ]
  },
  {
   "cell_type": "code",
   "execution_count": 129,
   "id": "928b4eea",
   "metadata": {},
   "outputs": [
    {
     "name": "stdout",
     "output_type": "stream",
     "text": [
      "RSE = 3.185202894528632\n",
      "R^2 = 0.4888671201401943\n"
     ]
    }
   ],
   "source": [
    "XTest = test.drop('presion', axis = 1)\n",
    "yhatTest = results.predict(sm.add_constant(XTest))\n",
    "YTest = test.presion\n",
    "\n",
    "RSSTest = sum((YTest-yhatTest)**2)\n",
    "TSSTest = sum((YTest-np.mean(YTest))**2)\n",
    "\n",
    "n = X.shape[0]\n",
    "nTest = XTest.shape[0]\n",
    "m = X.shape[1]\n",
    "mTest = XTest.shape[1]\n",
    "\n",
    "RSETest = np.sqrt(RSSTest/(n-m-1))\n",
    "R2Test = 1 - RSSTest / TSSTest\n",
    "\n",
    "print(\"RSE =\", RSETest)\n",
    "print(\"R^2 =\", R2Test)"
   ]
  },
  {
   "cell_type": "markdown",
   "id": "42faba39",
   "metadata": {},
   "source": [
    "En el conjunto de **validación**, el desempeño se mantiene relativamente consistente, con un **RSE ≈ 3.19** y un **$R^2 ≈ 0.489$**. El menor RSE sugiere que los errores promedio en este subconjunto fueron ligeramente menores, mientras que el $R^2$ se redujo a 48.9%, lo que implica una pérdida moderada en la capacidad explicativa al aplicar el modelo sobre datos no vistos. Esta diferencia es esperada y confirma que, aunque el modelo generaliza de forma razonable, no logra capturar la totalidad de la variabilidad del fenómeno.  \n",
    "\n",
    "Un detalle adicional es que las métricas de entrenamiento pueden obtenerse de manera más directa empleando los atributos del objeto ajustado: `results.scale` (al que basta tomarle raíz cuadrada para calcular el RSE) y `results.rsquared` (para el $R^2$). Esto simplifica el cálculo y permite validar rápidamente la consistencia entre los resultados manuales y los que entrega automáticamente el modelo.  "
   ]
  },
  {
   "cell_type": "code",
   "execution_count": 144,
   "id": "8bbc1bd7",
   "metadata": {},
   "outputs": [
    {
     "name": "stdout",
     "output_type": "stream",
     "text": [
      "RSE: 4.793925097164676\n",
      "R^2: 0.525405099811137\n"
     ]
    }
   ],
   "source": [
    "import statsmodels.api as sm\n",
    "\n",
    "# R² usando atributo\n",
    "r2 = results.rsquared\n",
    "\n",
    "# RSE usando mse_resid\n",
    "rse = np.sqrt(results.mse_resid)\n",
    "\n",
    "print(f\"RSE:\", rse)\n",
    "print(f\"R^2:\", r2)\n"
   ]
  },
  {
   "cell_type": "markdown",
   "id": "e9163a6a",
   "metadata": {},
   "source": [
    "# **Visualización de resultados y análisis cualitativo**"
   ]
  },
  {
   "cell_type": "markdown",
   "id": "0cc04f0d",
   "metadata": {},
   "source": [
    "La gráfica de dispersión muestra los **valores reales de presión sonora** en el eje x frente a los **valores estimados por el modelo** en el eje y para el conjunto de validación. La línea roja punteada representa el comportamiento ideal ($y = x$), donde la predicción coincidiría perfectamente con la realidad.  \n"
   ]
  },
  {
   "cell_type": "code",
   "execution_count": 142,
   "id": "74e068a7",
   "metadata": {},
   "outputs": [
    {
     "data": {
      "image/png": "[encoded data removed]",
      "text/plain": [
       "<Figure size 640x480 with 1 Axes>"
      ]
     },
     "metadata": {},
     "output_type": "display_data"
    }
   ],
   "source": [
    "import matplotlib.pyplot as plt\n",
    "\n",
    "plt.scatter(YTest, yhatTest, color=\"blue\", alpha=0.4, label=\"Predicciones\")\n",
    "\n",
    "min_val = min(min(YTest), min(yhatTest))\n",
    "max_val = max(max(YTest), max(yhatTest))\n",
    "plt.plot([min_val, max_val], [min_val, max_val], color=\"red\", linestyle=\"--\", label=\"Ideal (y = x)\")\n",
    "\n",
    "plt.xlabel(\"Valor real de presión sonora (YTest)\")\n",
    "plt.ylabel(\"Valor estimado de presión sonora (yhatTest)\")\n",
    "plt.title(\"Valores reales vs estimados - Conjunto de validación\")\n",
    "plt.legend()\n",
    "plt.grid(True)\n",
    "plt.show()\n"
   ]
  },
  {
   "cell_type": "markdown",
   "id": "c295c3ca",
   "metadata": {},
   "source": [
    "Se observa que los puntos se agrupan en torno a la línea diagonal, lo que indica que el modelo logra capturar la tendencia general de los datos y realiza predicciones razonablemente precisas. Sin embargo, también aparecen dispersión y desviaciones, especialmente en los extremos, lo que evidencia que el modelo **subestima algunos valores altos y sobreestima algunos valores bajos**.  \n",
    "\n",
    "Esta dispersión coincide con los resultados de las métricas previamente calculadas: un **$R^2 ≈ 0.489$** y **RSE ≈ 3.19**, lo que refleja que el modelo explica aproximadamente la mitad de la variabilidad y que los errores promedio en las predicciones son moderados."
   ]
  }
 ],
 "metadata": {
  "kernelspec": {
   "display_name": "base",
   "language": "python",
   "name": "python3"
  },
  "language_info": {
   "codemirror_mode": {
    "name": "ipython",
    "version": 3
   },
   "file_extension": ".py",
   "mimetype": "text/x-python",
   "name": "python",
   "nbconvert_exporter": "python",
   "pygments_lexer": "ipython3",
   "version": "3.13.5"
  }
 },
 "nbformat": 4,
 "nbformat_minor": 5
}
